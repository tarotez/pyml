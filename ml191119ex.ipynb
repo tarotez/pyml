{
 "cells": [
  {
   "cell_type": "code",
   "execution_count": 1,
   "metadata": {
    "colab": {
     "base_uri": "https://localhost:8080/",
     "height": 35
    },
    "colab_type": "code",
    "id": "KXNXe7z_y6by",
    "outputId": "1808c2ca-b382-4ff0-e347-3744be520614"
   },
   "outputs": [],
   "source": [
    "import inspect\n",
    "import numpy as np\n",
    "import pandas\n",
    "\n",
    "def list_size(variable, callers_local_vars):\n",
    "    list_size_recursive(' # ', variable, callers_local_vars)\n",
    "\n",
    "def list_size_recursive(header, variable, callers_local_vars):\n",
    "    if type(variable) == list or type(variable) == pandas.core.series.Series:\n",
    "        print(header, 'len(', str([k for k, v in callers_local_vars if v is variable][0]), ') = ', len(variable), sep='')\n",
    "        if(len(variable) > 0):\n",
    "            header += '  '\n",
    "            list_size_recursive(header, variable[0], callers_local_vars)\n",
    "\n",
    "def nparray_size(variable, callers_local_vars):\n",
    "    if(type(variable) == np.ndarray):\n",
    "        print(' # ', str([k for k, v in callers_local_vars if v is variable][0]), '.shape = ', variable.shape, sep='')\n",
    "\n",
    "# shows the value of variables for debugging\n",
    "def see(variable, all=0):\n",
    "    callers_local_vars = inspect.currentframe().f_back.f_locals.items()\n",
    "    print('# ', str([k for k, v in callers_local_vars if v is variable][0]), ' (', type(variable), ')', sep='', end='')\n",
    "    if all or (type(variable) != list and type(variable) != np.ndarray and type(variable) != pandas.core.series.Series):\n",
    "        print(' = ', variable, sep='')\n",
    "    else:\n",
    "        print('')\n",
    "    list_size(variable, callers_local_vars)\n",
    "    nparray_size(variable, callers_local_vars)\n"
   ]
  },
  {
   "cell_type": "code",
   "execution_count": 2,
   "metadata": {
    "colab": {
     "base_uri": "https://localhost:8080/",
     "height": 821
    },
    "colab_type": "code",
    "id": "DRaBeAo2y8rm",
    "outputId": "3b60f0a6-1f20-45c5-97d3-5fa204b92635"
   },
   "outputs": [
    {
     "data": {
      "text/plain": [
       "Text(0,0.5,'Happiness.Score')"
      ]
     },
     "execution_count": 2,
     "metadata": {},
     "output_type": "execute_result"
    },
    {
     "data": {
      "image/png": "[encoded data removed]",
      "text/plain": [
       "<Figure size 432x288 with 1 Axes>"
      ]
     },
     "metadata": {
      "needs_background": "light"
     },
     "output_type": "display_data"
    }
   ],
   "source": [
    "import matplotlib.pyplot as plt\n",
    "import numpy as np\n",
    "import pandas as pd\n",
    "from sklearn import linear_model\n",
    "\n",
    "# load data\n",
    "d = pd.read_csv('2017.csv')\n",
    "gdp = np.array(d['Economy..GDP.per.Capita.'])[:10]\n",
    "happiness = np.array(d['Happiness.Score'])[:10]\n",
    "\n",
    "# linear regression\n",
    "lr = linear_model.LinearRegression()\n",
    "lr.fit(gdp.reshape((-1,1)), happiness)\n",
    "gdp_test = np.linspace(gdp.min(), gdp.max(), 10000)\n",
    "happiness_predict = lr.predict(gdp_test.reshape((-1,1)))\n",
    "\n",
    "# plots graphs\n",
    "fig, ax = plt.subplots()\n",
    "ax.scatter(gdp, happiness, label='All', marker='*')\n",
    "ax.scatter(gdp_test, happiness_predict, c='green', marker='.' , label='pred')\n",
    "ax.legend(loc='lower left')\n",
    "ax.set_xlabel('Economy..GDP.per.Capita.')\n",
    "ax.set_ylabel('Happiness.Score')"
   ]
  },
  {
   "cell_type": "code",
   "execution_count": 3,
   "metadata": {},
   "outputs": [
    {
     "data": {
      "text/plain": [
       "array([0.85857367])"
      ]
     },
     "execution_count": 3,
     "metadata": {},
     "output_type": "execute_result"
    }
   ],
   "source": [
    "lr.coef_"
   ]
  },
  {
   "cell_type": "code",
   "execution_count": 4,
   "metadata": {},
   "outputs": [
    {
     "data": {
      "text/plain": [
       "6.126043984675304"
      ]
     },
     "execution_count": 4,
     "metadata": {},
     "output_type": "execute_result"
    }
   ],
   "source": [
    "lr.intercept_"
   ]
  },
  {
   "cell_type": "code",
   "execution_count": 5,
   "metadata": {
    "colab": {},
    "colab_type": "code",
    "id": "ZYym_cMTzr2u"
   },
   "outputs": [],
   "source": [
    "import numpy as np\n",
    "\n",
    "# linear neural network\n",
    "def linear_nn(x, w):\n",
    "    x_with_bias = np.c_[x, np.ones(x.shape[0])]\n",
    "    return np.matmul(w, x_with_bias.transpose())"
   ]
  },
  {
   "cell_type": "code",
   "execution_count": 6,
   "metadata": {},
   "outputs": [],
   "source": [
    "# computues gradient vector dL/dw\n",
    "def grad(x, w, y):\n",
    "    error = linear_nn(x, w) - y\n",
    "    x_with_bias = np.c_[x, np.ones(x.shape[0])]\n",
    "    return 2 * np.matmul(x_with_bias.transpose(), error)"
   ]
  },
  {
   "cell_type": "code",
   "execution_count": 7,
   "metadata": {},
   "outputs": [],
   "source": [
    "# updates parameter w\n",
    "def update(x, w, y, eta):\n",
    "    g = grad(x, w, y)\n",
    "    w = w - eta * g\n",
    "    return w"
   ]
  },
  {
   "cell_type": "code",
   "execution_count": 8,
   "metadata": {},
   "outputs": [],
   "source": [
    "def squared_error(pred, truth):\n",
    "    return np.sum((pred - truth) ** 2)"
   ]
  },
  {
   "cell_type": "code",
   "execution_count": 9,
   "metadata": {},
   "outputs": [],
   "source": [
    "def train(x, y, eta, iterNum):\n",
    "    w = np.random.random(2)\n",
    "    lossL = []\n",
    "    for _ in range(iterNum):\n",
    "        w = update(x, w, y, eta)\n",
    "        lossL.append(squared_error(linear_nn(x, w), y))\n",
    "    return w, lossL"
   ]
  },
  {
   "cell_type": "code",
   "execution_count": 10,
   "metadata": {},
   "outputs": [],
   "source": [
    "w, lossL = train(gdp, happiness, 0.01, 100000)"
   ]
  },
  {
   "cell_type": "code",
   "execution_count": 11,
   "metadata": {},
   "outputs": [
    {
     "data": {
      "text/plain": [
       "[<matplotlib.lines.Line2D at 0x1a1406feb8>]"
      ]
     },
     "execution_count": 11,
     "metadata": {},
     "output_type": "execute_result"
    },
    {
     "data": {
      "image/png": "[encoded data removed]",
      "text/plain": [
       "<Figure size 432x288 with 1 Axes>"
      ]
     },
     "metadata": {
      "needs_background": "light"
     },
     "output_type": "display_data"
    }
   ],
   "source": [
    "fig, ax = plt.subplots()\n",
    "ax.plot(lossL)"
   ]
  },
  {
   "cell_type": "code",
   "execution_count": 12,
   "metadata": {},
   "outputs": [
    {
     "data": {
      "text/plain": [
       "Text(0,0.5,'Happiness.Score')"
      ]
     },
     "execution_count": 12,
     "metadata": {},
     "output_type": "execute_result"
    },
    {
     "data": {
      "image/png": "[encoded data removed]",
      "text/plain": [
       "<Figure size 432x288 with 1 Axes>"
      ]
     },
     "metadata": {
      "needs_background": "light"
     },
     "output_type": "display_data"
    }
   ],
   "source": [
    "happiness_predict = w[0] * gdp_test + w[1]\n",
    "fig, ax = plt.subplots()\n",
    "ax.scatter(gdp, happiness, label='All', marker='*')\n",
    "ax.scatter(gdp_test, happiness_predict, c='green', marker='.' , label='pred')\n",
    "ax.legend(loc='lower left')\n",
    "ax.set_xlabel('Economy..GDP.per.Capita.')\n",
    "ax.set_ylabel('Happiness.Score')"
   ]
  },
  {
   "cell_type": "code",
   "execution_count": 13,
   "metadata": {},
   "outputs": [
    {
     "data": {
      "text/plain": [
       "0.8585736857722748"
      ]
     },
     "execution_count": 13,
     "metadata": {},
     "output_type": "execute_result"
    }
   ],
   "source": [
    "w[0]"
   ]
  },
  {
   "cell_type": "code",
   "execution_count": 14,
   "metadata": {},
   "outputs": [
    {
     "data": {
      "text/plain": [
       "0.8585736734837"
      ]
     },
     "execution_count": 14,
     "metadata": {},
     "output_type": "execute_result"
    }
   ],
   "source": [
    "lr.coef_[0]"
   ]
  },
  {
   "cell_type": "code",
   "execution_count": 15,
   "metadata": {},
   "outputs": [
    {
     "data": {
      "text/plain": [
       "6.126043966279247"
      ]
     },
     "execution_count": 15,
     "metadata": {},
     "output_type": "execute_result"
    }
   ],
   "source": [
    "w[1]"
   ]
  },
  {
   "cell_type": "code",
   "execution_count": 16,
   "metadata": {},
   "outputs": [
    {
     "data": {
      "text/plain": [
       "6.126043984675304"
      ]
     },
     "execution_count": 16,
     "metadata": {},
     "output_type": "execute_result"
    }
   ],
   "source": [
    "lr.intercept_"
   ]
  }
 ],
 "metadata": {
  "colab": {
   "collapsed_sections": [],
   "name": "ml191112ex.ipynb",
   "provenance": []
  },
  "kernelspec": {
   "display_name": "Python 3",
   "language": "python",
   "name": "python3"
  },
  "language_info": {
   "codemirror_mode": {
    "name": "ipython",
    "version": 3
   },
   "file_extension": ".py",
   "mimetype": "text/x-python",
   "name": "python",
   "nbconvert_exporter": "python",
   "pygments_lexer": "ipython3",
   "version": "3.7.0"
  }
 },
 "nbformat": 4,
 "nbformat_minor": 1
}
