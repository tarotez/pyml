{
 "cells": [
  {
   "cell_type": "code",
   "execution_count": 1,
   "metadata": {},
   "outputs": [],
   "source": [
    "import numpy as np"
   ]
  },
  {
   "cell_type": "code",
   "execution_count": 2,
   "metadata": {},
   "outputs": [],
   "source": [
    "v = np.array((4,3,2))\n",
    "u = np.array((1,5,2))"
   ]
  },
  {
   "cell_type": "code",
   "execution_count": 3,
   "metadata": {},
   "outputs": [
    {
     "data": {
      "text/plain": [
       "[4, 15, 4]"
      ]
     },
     "execution_count": 3,
     "metadata": {},
     "output_type": "execute_result"
    }
   ],
   "source": [
    "# elementwise product (Hadamard product)\n",
    "[e1 * e2 for e1, e2 in zip(v, u)]"
   ]
  },
  {
   "cell_type": "code",
   "execution_count": 4,
   "metadata": {},
   "outputs": [
    {
     "data": {
      "text/plain": [
       "23"
      ]
     },
     "execution_count": 4,
     "metadata": {},
     "output_type": "execute_result"
    }
   ],
   "source": [
    "# compute inner product\n",
    "np.sum(np.array([e1 * e2 for e1, e2 in zip(v, u)]))"
   ]
  },
  {
   "cell_type": "code",
   "execution_count": 5,
   "metadata": {},
   "outputs": [],
   "source": [
    "A = np.random.random((5,3))\n",
    "B = np.random.random((3,4))"
   ]
  },
  {
   "cell_type": "code",
   "execution_count": 6,
   "metadata": {},
   "outputs": [
    {
     "data": {
      "text/plain": [
       "array([[0.62350009, 0.00119296, 0.35265267],\n",
       "       [0.00436978, 0.61236331, 0.73766116],\n",
       "       [0.40433978, 0.96692252, 0.47121614],\n",
       "       [0.00561098, 0.20562243, 0.909549  ],\n",
       "       [0.07622477, 0.40129248, 0.05597344]])"
      ]
     },
     "execution_count": 6,
     "metadata": {},
     "output_type": "execute_result"
    }
   ],
   "source": [
    "A"
   ]
  },
  {
   "cell_type": "code",
   "execution_count": 7,
   "metadata": {},
   "outputs": [
    {
     "data": {
      "text/plain": [
       "array([[0.52531052, 0.79539217, 0.14797152, 0.89700386],\n",
       "       [0.34370511, 0.0042822 , 0.20851809, 0.11215842],\n",
       "       [0.2256828 , 0.4469294 , 0.35510653, 0.00465795]])"
      ]
     },
     "execution_count": 7,
     "metadata": {},
     "output_type": "execute_result"
    }
   ],
   "source": [
    "B"
   ]
  },
  {
   "cell_type": "code",
   "execution_count": 8,
   "metadata": {},
   "outputs": [
    {
     "data": {
      "text/plain": [
       "array([[0.40752883, 0.65354305, 0.21773828, 0.56105843],\n",
       "       [0.37924533, 0.33578041, 0.39028373, 0.0760374 ],\n",
       "       [0.65108553, 0.5363496 , 0.42878354, 0.47333775],\n",
       "       [0.27889056, 0.41184764, 0.36669305, 0.03233199],\n",
       "       [0.19060019, 0.08736317, 0.11483237, 0.11364296]])"
      ]
     },
     "execution_count": 8,
     "metadata": {},
     "output_type": "execute_result"
    }
   ],
   "source": [
    "np.matmul(A,B)"
   ]
  },
  {
   "cell_type": "code",
   "execution_count": 9,
   "metadata": {},
   "outputs": [
    {
     "data": {
      "text/plain": [
       "array([[0.40752883, 0.65354305, 0.21773828, 0.56105843],\n",
       "       [0.37924533, 0.33578041, 0.39028373, 0.0760374 ],\n",
       "       [0.65108553, 0.5363496 , 0.42878354, 0.47333775],\n",
       "       [0.27889056, 0.41184764, 0.36669305, 0.03233199],\n",
       "       [0.19060019, 0.08736317, 0.11483237, 0.11364296]])"
      ]
     },
     "execution_count": 9,
     "metadata": {},
     "output_type": "execute_result"
    }
   ],
   "source": [
    "# matrix multiplication using loops\n",
    "def my_matmul(X, Y):\n",
    "    return np.array([[np.matmul(x, y) for y in Y.transpose()] for x in X])\n",
    "    \n",
    "my_matmul(A,B)"
   ]
  },
  {
   "cell_type": "code",
   "execution_count": null,
   "metadata": {},
   "outputs": [],
   "source": []
  }
 ],
 "metadata": {
  "kernelspec": {
   "display_name": "Python 3",
   "language": "python",
   "name": "python3"
  },
  "language_info": {
   "codemirror_mode": {
    "name": "ipython",
    "version": 3
   },
   "file_extension": ".py",
   "mimetype": "text/x-python",
   "name": "python",
   "nbconvert_exporter": "python",
   "pygments_lexer": "ipython3",
   "version": "3.7.0"
  }
 },
 "nbformat": 4,
 "nbformat_minor": 2
}
