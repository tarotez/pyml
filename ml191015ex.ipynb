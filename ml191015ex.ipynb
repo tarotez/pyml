{
 "cells": [
  {
   "cell_type": "code",
   "execution_count": 0,
   "metadata": {
    "colab": {
     "base_uri": "https://localhost:8080/",
     "height": 34
    },
    "colab_type": "code",
    "id": "O32bM8g3djex",
    "outputId": "ee6e060d-2d79-4fa7-b709-23781c1e9983"
   },
   "outputs": [
    {
     "data": {
      "text/plain": [
       "array([2.71828183, 0.36787944, 1.        , 7.3890561 ])"
      ]
     },
     "execution_count": 6,
     "metadata": {
      "tags": []
     },
     "output_type": "execute_result"
    }
   ],
   "source": [
    "import numpy as np\n",
    "a = np.array([1,-1,0,2])\n",
    "np.exp(a)"
   ]
  },
  {
   "cell_type": "code",
   "execution_count": 0,
   "metadata": {
    "colab": {
     "base_uri": "https://localhost:8080/",
     "height": 34
    },
    "colab_type": "code",
    "id": "AhvdEx1odl45",
    "outputId": "25ce0b97-bc3d-4b1a-8208-daffafda8a21"
   },
   "outputs": [
    {
     "data": {
      "text/plain": [
       "10"
      ]
     },
     "execution_count": 7,
     "metadata": {
      "tags": []
     },
     "output_type": "execute_result"
    }
   ],
   "source": [
    "b = np.array([2,4,3,1])\n",
    "np.sum(b)"
   ]
  },
  {
   "cell_type": "code",
   "execution_count": 0,
   "metadata": {
    "colab": {
     "base_uri": "https://localhost:8080/",
     "height": 34
    },
    "colab_type": "code",
    "id": "F-E75cjLgPL9",
    "outputId": "f23f239d-2a4a-4dd0-c9cc-b97d0519ff1f"
   },
   "outputs": [
    {
     "data": {
      "text/plain": [
       "11.475217368561138"
      ]
     },
     "execution_count": 8,
     "metadata": {
      "tags": []
     },
     "output_type": "execute_result"
    }
   ],
   "source": [
    "np.sum(np.exp(a))"
   ]
  },
  {
   "cell_type": "code",
   "execution_count": 0,
   "metadata": {
    "colab": {},
    "colab_type": "code",
    "id": "d7PvtTAEgXQa"
   },
   "outputs": [],
   "source": [
    "def softmax(a):\n",
    "  return np.exp(a) / np.sum(np.exp(a))"
   ]
  },
  {
   "cell_type": "code",
   "execution_count": 0,
   "metadata": {
    "colab": {
     "base_uri": "https://localhost:8080/",
     "height": 34
    },
    "colab_type": "code",
    "id": "jQwZhKWMgbV6",
    "outputId": "0f28f282-e0a9-496b-a845-f28ca22a8e48"
   },
   "outputs": [
    {
     "data": {
      "text/plain": [
       "array([0.25618664, 0.69638749, 0.03467109, 0.01275478])"
      ]
     },
     "execution_count": 29,
     "metadata": {
      "tags": []
     },
     "output_type": "execute_result"
    }
   ],
   "source": [
    "softmax([4,5,2,1])"
   ]
  },
  {
   "cell_type": "code",
   "execution_count": 0,
   "metadata": {
    "colab": {
     "base_uri": "https://localhost:8080/",
     "height": 34
    },
    "colab_type": "code",
    "id": "7-sFRSBzghsu",
    "outputId": "91454caa-6fbe-4f24-f9f6-d69d03828c61"
   },
   "outputs": [
    {
     "data": {
      "text/plain": [
       "1"
      ]
     },
     "execution_count": 30,
     "metadata": {
      "tags": []
     },
     "output_type": "execute_result"
    }
   ],
   "source": [
    "np.argmax([4,5,2,1])"
   ]
  },
  {
   "cell_type": "code",
   "execution_count": 0,
   "metadata": {
    "colab": {
     "base_uri": "https://localhost:8080/",
     "height": 34
    },
    "colab_type": "code",
    "id": "Gm2xEapJgjcd",
    "outputId": "c3cfe773-bf7d-43c1-a004-d5ecee1ad72f"
   },
   "outputs": [
    {
     "data": {
      "text/plain": [
       "array([2, 4, 3, 1])"
      ]
     },
     "execution_count": 12,
     "metadata": {
      "tags": []
     },
     "output_type": "execute_result"
    }
   ],
   "source": [
    "b"
   ]
  },
  {
   "cell_type": "code",
   "execution_count": 0,
   "metadata": {
    "colab": {
     "base_uri": "https://localhost:8080/",
     "height": 34
    },
    "colab_type": "code",
    "id": "4oCmhDI9gwGs",
    "outputId": "37f06a03-1803-4bed-f6e5-13ab34c5c4bf"
   },
   "outputs": [
    {
     "data": {
      "text/plain": [
       "array([0.2, 0.4, 0.3, 0.1])"
      ]
     },
     "execution_count": 13,
     "metadata": {
      "tags": []
     },
     "output_type": "execute_result"
    }
   ],
   "source": [
    "b / np.sum(b)"
   ]
  },
  {
   "cell_type": "code",
   "execution_count": 5,
   "metadata": {
    "colab": {
     "base_uri": "https://localhost:8080/",
     "height": 34
    },
    "colab_type": "code",
    "id": "YG633B13g5B_",
    "outputId": "79d0b8bd-46c1-49ce-d755-24895bda4192"
   },
   "outputs": [
    {
     "name": "stdout",
     "output_type": "stream",
     "text": [
      "wrong =  0\n"
     ]
    }
   ],
   "source": [
    "import numpy as np\n",
    "\n",
    "data = np.array(((20,30), (60,75), (80,30), (90,70), (95,90), (40,60), (80,90), (30,40), (25,55), (35,25), (80,45), (50,10), (25,80)))\n",
    "y = np.array((0,1,0,1,1,1,1,0,0,0,1,0,1))\n",
    "w = np.array((0.1, 0.3, -20))\n",
    "\n",
    "def linclass(w,a):\n",
    "  if w[0] * a[0] + w[1] * a[1] + w[2] >= 0:\n",
    "    return 1\n",
    "  else:\n",
    "    return 0\n",
    "\n",
    "wrong = 0\n",
    "for x, truth in zip(data,y):\n",
    "  # print('x = ', x, ', truth = ', truth)\n",
    "  prediction = linclass(w,x)\n",
    "  wrong += np.abs(prediction - truth)\n",
    "  \n",
    "print('wrong = ', wrong)"
   ]
  },
  {
   "cell_type": "code",
   "execution_count": 11,
   "metadata": {
    "colab": {
     "base_uri": "https://localhost:8080/",
     "height": 34
    },
    "colab_type": "code",
    "id": "UQDionLqmYOl",
    "outputId": "c1dcc374-d918-4d9c-f979-1a6a32774a22"
   },
   "outputs": [
    {
     "name": "stdout",
     "output_type": "stream",
     "text": [
      "wrong =  0\n"
     ]
    }
   ],
   "source": [
    "import numpy as np\n",
    "\n",
    "data = np.array(((20,30), (60,75), (80,30), (90,70), (95,90), (40,60), (80,90), (30,40), (25,55), (35,25), (80,45), (50,10), (25,80)))\n",
    "y = np.array((0,1,0,1,1,1,1,0,0,0,1,0,1))\n",
    "w = np.array((0.1, 0.3, -20))\n",
    "\n",
    "def linclass(weight, input_x):\n",
    "  if np.matmul(weight, input_x) >= 0:\n",
    "    return 1\n",
    "  else:\n",
    "    return 0\n",
    "\n",
    "wrong = 0\n",
    "for x, truth in zip(data,y):\n",
    "  x_withb = np.concatenate((x,np.ones((1))))\n",
    "  # print('x_withb = ', x_withb, ', truth = ', truth)\n",
    "  prediction = linclass(w, x_withb)\n",
    "  wrong += np.abs(prediction - truth)\n",
    "  \n",
    "print('wrong = ', wrong)"
   ]
  },
  {
   "cell_type": "code",
   "execution_count": 0,
   "metadata": {
    "colab": {},
    "colab_type": "code",
    "id": "pjaisGUaaEk2"
   },
   "outputs": [],
   "source": []
  }
 ],
 "metadata": {
  "colab": {
   "collapsed_sections": [],
   "name": "ml191015ex",
   "provenance": []
  },
  "kernelspec": {
   "display_name": "Python 3",
   "language": "python",
   "name": "python3"
  },
  "language_info": {
   "codemirror_mode": {
    "name": "ipython",
    "version": 3
   },
   "file_extension": ".py",
   "mimetype": "text/x-python",
   "name": "python",
   "nbconvert_exporter": "python",
   "pygments_lexer": "ipython3",
   "version": "3.7.0"
  }
 },
 "nbformat": 4,
 "nbformat_minor": 1
}
