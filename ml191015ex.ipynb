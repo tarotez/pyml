{
  "nbformat": 4,
  "nbformat_minor": 0,
  "metadata": {
    "colab": {
      "name": "ml191015ex",
      "provenance": [],
      "collapsed_sections": []
    },
    "kernelspec": {
      "name": "python3",
      "display_name": "Python 3"
    }
  },
  "cells": [
    {
      "cell_type": "code",
      "metadata": {
        "id": "j1QyyqiLddkr",
        "colab_type": "code",
        "colab": {}
      },
      "source": [
        "!git clone https://github.com/tarotez/pyml"
      ],
      "execution_count": 0,
      "outputs": []
    },
    {
      "cell_type": "code",
      "metadata": {
        "id": "qncy2mVIeVR1",
        "colab_type": "code",
        "colab": {}
      },
      "source": [
        "!git pull"
      ],
      "execution_count": 0,
      "outputs": []
    },
    {
      "cell_type": "code",
      "metadata": {
        "id": "jf9Yu55CdhMs",
        "colab_type": "code",
        "colab": {}
      },
      "source": [
        "cd pyml"
      ],
      "execution_count": 0,
      "outputs": []
    },
    {
      "cell_type": "code",
      "metadata": {
        "id": "9_w0LkFOec9_",
        "colab_type": "code",
        "outputId": "2665f9c1-918b-4492-c615-85e4101d6fa6",
        "colab": {
          "base_uri": "https://localhost:8080/",
          "height": 34
        }
      },
      "source": [
        "pwd"
      ],
      "execution_count": 0,
      "outputs": [
        {
          "output_type": "execute_result",
          "data": {
            "text/plain": [
              "'/content/pyml'"
            ]
          },
          "metadata": {
            "tags": []
          },
          "execution_count": 4
        }
      ]
    },
    {
      "cell_type": "code",
      "metadata": {
        "id": "O32bM8g3djex",
        "colab_type": "code",
        "outputId": "ee6e060d-2d79-4fa7-b709-23781c1e9983",
        "colab": {
          "base_uri": "https://localhost:8080/",
          "height": 34
        }
      },
      "source": [
        "import numpy as np\n",
        "a = np.array([1,-1,0,2])\n",
        "np.exp(a)"
      ],
      "execution_count": 0,
      "outputs": [
        {
          "output_type": "execute_result",
          "data": {
            "text/plain": [
              "array([2.71828183, 0.36787944, 1.        , 7.3890561 ])"
            ]
          },
          "metadata": {
            "tags": []
          },
          "execution_count": 6
        }
      ]
    },
    {
      "cell_type": "code",
      "metadata": {
        "id": "AhvdEx1odl45",
        "colab_type": "code",
        "outputId": "25ce0b97-bc3d-4b1a-8208-daffafda8a21",
        "colab": {
          "base_uri": "https://localhost:8080/",
          "height": 34
        }
      },
      "source": [
        "b = np.array([2,4,3,1])\n",
        "np.sum(b)"
      ],
      "execution_count": 0,
      "outputs": [
        {
          "output_type": "execute_result",
          "data": {
            "text/plain": [
              "10"
            ]
          },
          "metadata": {
            "tags": []
          },
          "execution_count": 7
        }
      ]
    },
    {
      "cell_type": "code",
      "metadata": {
        "id": "F-E75cjLgPL9",
        "colab_type": "code",
        "outputId": "f23f239d-2a4a-4dd0-c9cc-b97d0519ff1f",
        "colab": {
          "base_uri": "https://localhost:8080/",
          "height": 34
        }
      },
      "source": [
        "np.sum(np.exp(a))"
      ],
      "execution_count": 0,
      "outputs": [
        {
          "output_type": "execute_result",
          "data": {
            "text/plain": [
              "11.475217368561138"
            ]
          },
          "metadata": {
            "tags": []
          },
          "execution_count": 8
        }
      ]
    },
    {
      "cell_type": "code",
      "metadata": {
        "id": "d7PvtTAEgXQa",
        "colab_type": "code",
        "colab": {}
      },
      "source": [
        "def softmax(a):\n",
        "  return np.exp(a) / np.sum(np.exp(a))"
      ],
      "execution_count": 0,
      "outputs": []
    },
    {
      "cell_type": "code",
      "metadata": {
        "id": "jQwZhKWMgbV6",
        "colab_type": "code",
        "outputId": "0f28f282-e0a9-496b-a845-f28ca22a8e48",
        "colab": {
          "base_uri": "https://localhost:8080/",
          "height": 34
        }
      },
      "source": [
        "softmax([4,5,2,1])"
      ],
      "execution_count": 0,
      "outputs": [
        {
          "output_type": "execute_result",
          "data": {
            "text/plain": [
              "array([0.25618664, 0.69638749, 0.03467109, 0.01275478])"
            ]
          },
          "metadata": {
            "tags": []
          },
          "execution_count": 29
        }
      ]
    },
    {
      "cell_type": "code",
      "metadata": {
        "id": "7-sFRSBzghsu",
        "colab_type": "code",
        "outputId": "91454caa-6fbe-4f24-f9f6-d69d03828c61",
        "colab": {
          "base_uri": "https://localhost:8080/",
          "height": 34
        }
      },
      "source": [
        "np.argmax([4,5,2,1])"
      ],
      "execution_count": 0,
      "outputs": [
        {
          "output_type": "execute_result",
          "data": {
            "text/plain": [
              "1"
            ]
          },
          "metadata": {
            "tags": []
          },
          "execution_count": 30
        }
      ]
    },
    {
      "cell_type": "code",
      "metadata": {
        "id": "Gm2xEapJgjcd",
        "colab_type": "code",
        "outputId": "c3cfe773-bf7d-43c1-a004-d5ecee1ad72f",
        "colab": {
          "base_uri": "https://localhost:8080/",
          "height": 34
        }
      },
      "source": [
        "b"
      ],
      "execution_count": 0,
      "outputs": [
        {
          "output_type": "execute_result",
          "data": {
            "text/plain": [
              "array([2, 4, 3, 1])"
            ]
          },
          "metadata": {
            "tags": []
          },
          "execution_count": 12
        }
      ]
    },
    {
      "cell_type": "code",
      "metadata": {
        "id": "4oCmhDI9gwGs",
        "colab_type": "code",
        "outputId": "37f06a03-1803-4bed-f6e5-13ab34c5c4bf",
        "colab": {
          "base_uri": "https://localhost:8080/",
          "height": 34
        }
      },
      "source": [
        "b / np.sum(b)"
      ],
      "execution_count": 0,
      "outputs": [
        {
          "output_type": "execute_result",
          "data": {
            "text/plain": [
              "array([0.2, 0.4, 0.3, 0.1])"
            ]
          },
          "metadata": {
            "tags": []
          },
          "execution_count": 13
        }
      ]
    },
    {
      "cell_type": "code",
      "metadata": {
        "id": "YG633B13g5B_",
        "colab_type": "code",
        "outputId": "79d0b8bd-46c1-49ce-d755-24895bda4192",
        "colab": {
          "base_uri": "https://localhost:8080/",
          "height": 34
        }
      },
      "source": [
        "import numpy as np\n",
        "\n",
        "data = np.array(((20,30), (60,75), (80,30), (90,70), (95,90), (40,60), (80,90), (30,40), (25,55), (35,25), (80,45), (50,10), (25,80)))\n",
        "y = np.array((0,1,0,1,1,1,1,0,0,0,1,0,1))\n",
        "w = np.array((0.1, 0.3, -20))\n",
        "\n",
        "def linclass(w,a):\n",
        "  if w[0] * a[0] + w[1] * a[1] + w[2] >= 0:\n",
        "    return 1\n",
        "  else:\n",
        "    return 0\n",
        "\n",
        "wrong = 0\n",
        "for x, truth in zip(data,y):\n",
        "  # print('x = ', x, ', truth = ', truth)\n",
        "  prediction = linclass(w,x)\n",
        "  wrong += np.abs(prediction - truth)\n",
        "  \n",
        "print('wrong = ', wrong)"
      ],
      "execution_count": 5,
      "outputs": [
        {
          "output_type": "stream",
          "text": [
            "wrong =  0\n"
          ],
          "name": "stdout"
        }
      ]
    },
    {
      "cell_type": "code",
      "metadata": {
        "id": "UQDionLqmYOl",
        "colab_type": "code",
        "colab": {
          "base_uri": "https://localhost:8080/",
          "height": 34
        },
        "outputId": "c1dcc374-d918-4d9c-f979-1a6a32774a22"
      },
      "source": [
        "import numpy as np\n",
        "\n",
        "data = np.array(((20,30), (60,75), (80,30), (90,70), (95,90), (40,60), (80,90), (30,40), (25,55), (35,25), (80,45), (50,10), (25,80)))\n",
        "y = np.array((0,1,0,1,1,1,1,0,0,0,1,0,1))\n",
        "w = np.array((0.1, 0.3, -20))\n",
        "\n",
        "def linclass(weight, input_x):\n",
        "  if np.matmul(weight, input_x) >= 0:\n",
        "    return 1\n",
        "  else:\n",
        "    return 0\n",
        "\n",
        "wrong = 0\n",
        "for x, truth in zip(data,y):\n",
        "  x_withb = np.concatenate((x,np.ones((1))))\n",
        "  # print('x_withb = ', x_withb, ', truth = ', truth)\n",
        "  prediction = linclass(w, x_withb)\n",
        "  wrong += np.abs(prediction - truth)\n",
        "  \n",
        "print('wrong = ', wrong)"
      ],
      "execution_count": 11,
      "outputs": [
        {
          "output_type": "stream",
          "text": [
            "wrong =  0\n"
          ],
          "name": "stdout"
        }
      ]
    },
    {
      "cell_type": "code",
      "metadata": {
        "id": "pjaisGUaaEk2",
        "colab_type": "code",
        "colab": {}
      },
      "source": [
        ""
      ],
      "execution_count": 0,
      "outputs": []
    }
  ]
}